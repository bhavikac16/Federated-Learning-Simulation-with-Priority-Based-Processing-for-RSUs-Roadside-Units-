{
  "nbformat": 4,
  "nbformat_minor": 0,
  "metadata": {
    "colab": {
      "provenance": []
    },
    "kernelspec": {
      "name": "python3",
      "display_name": "Python 3"
    },
    "language_info": {
      "name": "python"
    }
  },
  "cells": [
    {
      "cell_type": "code",
      "source": [
        "from google.colab import drive\n",
        "drive.mount('/content/drive')"
      ],
      "metadata": {
        "colab": {
          "base_uri": "https://localhost:8080/",
          "height": 304
        },
        "id": "eydt8L4iA2mY",
        "outputId": "02f4ba0b-b69f-4f22-a41a-65840696aaa1"
      },
      "execution_count": null,
      "outputs": [
        {
          "output_type": "error",
          "ename": "MessageError",
          "evalue": "Error: credential propagation was unsuccessful",
          "traceback": [
            "\u001b[0;31m---------------------------------------------------------------------------\u001b[0m",
            "\u001b[0;31mMessageError\u001b[0m                              Traceback (most recent call last)",
            "\u001b[0;32m<ipython-input-1-d5df0069828e>\u001b[0m in \u001b[0;36m<cell line: 2>\u001b[0;34m()\u001b[0m\n\u001b[1;32m      1\u001b[0m \u001b[0;32mfrom\u001b[0m \u001b[0mgoogle\u001b[0m\u001b[0;34m.\u001b[0m\u001b[0mcolab\u001b[0m \u001b[0;32mimport\u001b[0m \u001b[0mdrive\u001b[0m\u001b[0;34m\u001b[0m\u001b[0;34m\u001b[0m\u001b[0m\n\u001b[0;32m----> 2\u001b[0;31m \u001b[0mdrive\u001b[0m\u001b[0;34m.\u001b[0m\u001b[0mmount\u001b[0m\u001b[0;34m(\u001b[0m\u001b[0;34m'/content/drive'\u001b[0m\u001b[0;34m)\u001b[0m\u001b[0;34m\u001b[0m\u001b[0;34m\u001b[0m\u001b[0m\n\u001b[0m",
            "\u001b[0;32m/usr/local/lib/python3.10/dist-packages/google/colab/drive.py\u001b[0m in \u001b[0;36mmount\u001b[0;34m(mountpoint, force_remount, timeout_ms, readonly)\u001b[0m\n\u001b[1;32m     98\u001b[0m \u001b[0;32mdef\u001b[0m \u001b[0mmount\u001b[0m\u001b[0;34m(\u001b[0m\u001b[0mmountpoint\u001b[0m\u001b[0;34m,\u001b[0m \u001b[0mforce_remount\u001b[0m\u001b[0;34m=\u001b[0m\u001b[0;32mFalse\u001b[0m\u001b[0;34m,\u001b[0m \u001b[0mtimeout_ms\u001b[0m\u001b[0;34m=\u001b[0m\u001b[0;36m120000\u001b[0m\u001b[0;34m,\u001b[0m \u001b[0mreadonly\u001b[0m\u001b[0;34m=\u001b[0m\u001b[0;32mFalse\u001b[0m\u001b[0;34m)\u001b[0m\u001b[0;34m:\u001b[0m\u001b[0;34m\u001b[0m\u001b[0;34m\u001b[0m\u001b[0m\n\u001b[1;32m     99\u001b[0m   \u001b[0;34m\"\"\"Mount your Google Drive at the specified mountpoint path.\"\"\"\u001b[0m\u001b[0;34m\u001b[0m\u001b[0;34m\u001b[0m\u001b[0m\n\u001b[0;32m--> 100\u001b[0;31m   return _mount(\n\u001b[0m\u001b[1;32m    101\u001b[0m       \u001b[0mmountpoint\u001b[0m\u001b[0;34m,\u001b[0m\u001b[0;34m\u001b[0m\u001b[0;34m\u001b[0m\u001b[0m\n\u001b[1;32m    102\u001b[0m       \u001b[0mforce_remount\u001b[0m\u001b[0;34m=\u001b[0m\u001b[0mforce_remount\u001b[0m\u001b[0;34m,\u001b[0m\u001b[0;34m\u001b[0m\u001b[0;34m\u001b[0m\u001b[0m\n",
            "\u001b[0;32m/usr/local/lib/python3.10/dist-packages/google/colab/drive.py\u001b[0m in \u001b[0;36m_mount\u001b[0;34m(mountpoint, force_remount, timeout_ms, ephemeral, readonly)\u001b[0m\n\u001b[1;32m    135\u001b[0m   )\n\u001b[1;32m    136\u001b[0m   \u001b[0;32mif\u001b[0m \u001b[0mephemeral\u001b[0m\u001b[0;34m:\u001b[0m\u001b[0;34m\u001b[0m\u001b[0;34m\u001b[0m\u001b[0m\n\u001b[0;32m--> 137\u001b[0;31m     _message.blocking_request(\n\u001b[0m\u001b[1;32m    138\u001b[0m         \u001b[0;34m'request_auth'\u001b[0m\u001b[0;34m,\u001b[0m\u001b[0;34m\u001b[0m\u001b[0;34m\u001b[0m\u001b[0m\n\u001b[1;32m    139\u001b[0m         \u001b[0mrequest\u001b[0m\u001b[0;34m=\u001b[0m\u001b[0;34m{\u001b[0m\u001b[0;34m'authType'\u001b[0m\u001b[0;34m:\u001b[0m \u001b[0;34m'dfs_ephemeral'\u001b[0m\u001b[0;34m}\u001b[0m\u001b[0;34m,\u001b[0m\u001b[0;34m\u001b[0m\u001b[0;34m\u001b[0m\u001b[0m\n",
            "\u001b[0;32m/usr/local/lib/python3.10/dist-packages/google/colab/_message.py\u001b[0m in \u001b[0;36mblocking_request\u001b[0;34m(request_type, request, timeout_sec, parent)\u001b[0m\n\u001b[1;32m    174\u001b[0m       \u001b[0mrequest_type\u001b[0m\u001b[0;34m,\u001b[0m \u001b[0mrequest\u001b[0m\u001b[0;34m,\u001b[0m \u001b[0mparent\u001b[0m\u001b[0;34m=\u001b[0m\u001b[0mparent\u001b[0m\u001b[0;34m,\u001b[0m \u001b[0mexpect_reply\u001b[0m\u001b[0;34m=\u001b[0m\u001b[0;32mTrue\u001b[0m\u001b[0;34m\u001b[0m\u001b[0;34m\u001b[0m\u001b[0m\n\u001b[1;32m    175\u001b[0m   )\n\u001b[0;32m--> 176\u001b[0;31m   \u001b[0;32mreturn\u001b[0m \u001b[0mread_reply_from_input\u001b[0m\u001b[0;34m(\u001b[0m\u001b[0mrequest_id\u001b[0m\u001b[0;34m,\u001b[0m \u001b[0mtimeout_sec\u001b[0m\u001b[0;34m)\u001b[0m\u001b[0;34m\u001b[0m\u001b[0;34m\u001b[0m\u001b[0m\n\u001b[0m",
            "\u001b[0;32m/usr/local/lib/python3.10/dist-packages/google/colab/_message.py\u001b[0m in \u001b[0;36mread_reply_from_input\u001b[0;34m(message_id, timeout_sec)\u001b[0m\n\u001b[1;32m    101\u001b[0m     ):\n\u001b[1;32m    102\u001b[0m       \u001b[0;32mif\u001b[0m \u001b[0;34m'error'\u001b[0m \u001b[0;32min\u001b[0m \u001b[0mreply\u001b[0m\u001b[0;34m:\u001b[0m\u001b[0;34m\u001b[0m\u001b[0;34m\u001b[0m\u001b[0m\n\u001b[0;32m--> 103\u001b[0;31m         \u001b[0;32mraise\u001b[0m \u001b[0mMessageError\u001b[0m\u001b[0;34m(\u001b[0m\u001b[0mreply\u001b[0m\u001b[0;34m[\u001b[0m\u001b[0;34m'error'\u001b[0m\u001b[0;34m]\u001b[0m\u001b[0;34m)\u001b[0m\u001b[0;34m\u001b[0m\u001b[0;34m\u001b[0m\u001b[0m\n\u001b[0m\u001b[1;32m    104\u001b[0m       \u001b[0;32mreturn\u001b[0m \u001b[0mreply\u001b[0m\u001b[0;34m.\u001b[0m\u001b[0mget\u001b[0m\u001b[0;34m(\u001b[0m\u001b[0;34m'data'\u001b[0m\u001b[0;34m,\u001b[0m \u001b[0;32mNone\u001b[0m\u001b[0;34m)\u001b[0m\u001b[0;34m\u001b[0m\u001b[0;34m\u001b[0m\u001b[0m\n\u001b[1;32m    105\u001b[0m \u001b[0;34m\u001b[0m\u001b[0m\n",
            "\u001b[0;31mMessageError\u001b[0m: Error: credential propagation was unsuccessful"
          ]
        }
      ]
    },
    {
      "cell_type": "markdown",
      "source": [
        "# **Import necessary libraries**\n"
      ],
      "metadata": {
        "id": "n0y6TP_tj6Mw"
      }
    },
    {
      "cell_type": "code",
      "execution_count": null,
      "metadata": {
        "id": "GvSQXIUpAvqa"
      },
      "outputs": [],
      "source": [
        "import pandas as pd\n",
        "import numpy as np\n",
        "from sklearn.preprocessing import MinMaxScaler\n",
        "from sklearn.cluster import KMeans\n",
        "import torch\n",
        "import torch.nn as nn\n",
        "import torch.optim as optim\n",
        "from torch.utils.data import DataLoader, TensorDataset\n"
      ]
    },
    {
      "cell_type": "markdown",
      "source": [
        "# **Load the dataset**"
      ],
      "metadata": {
        "id": "TdUIJJI7kBif"
      }
    },
    {
      "cell_type": "code",
      "source": [
        "file_path = '/content/128V_10PPS_Processed_C105_disc.csv'\n",
        "data = pd.read_csv(file_path)\n"
      ],
      "metadata": {
        "id": "8s2oI03XCX6p"
      },
      "execution_count": null,
      "outputs": []
    },
    {
      "cell_type": "markdown",
      "source": [
        "\n",
        "# **Step 1: Drop unnecessary columns and normalize features and labels**\n",
        "\n",
        "\n"
      ],
      "metadata": {
        "id": "SBSi5hr1kZuN"
      }
    },
    {
      "cell_type": "code",
      "source": [
        "data.drop(columns=['Unnamed: 0'], inplace=True)\n",
        "features = data.drop(columns=['Severity']).values\n",
        "\n",
        "# Normalize the features using MinMaxScaler\n",
        "scaler_features = MinMaxScaler()\n",
        "normalized_features = scaler_features.fit_transform(features)\n",
        "\n",
        "# Normalize the label ('Severity')\n",
        "scaler_labels = MinMaxScaler()\n",
        "normalized_labels = scaler_labels.fit_transform(data[['Severity']].values)\n"
      ],
      "metadata": {
        "id": "9tl3tBZvCliX"
      },
      "execution_count": null,
      "outputs": []
    },
    {
      "cell_type": "markdown",
      "source": [
        "## **Step 2: Update the clustering features and apply K-Means clustering**"
      ],
      "metadata": {
        "id": "-FfFK4e3krjm"
      }
    },
    {
      "cell_type": "code",
      "source": [
        "\n",
        "clustering_features = normalized_features[:, [5, 6, 7, 4]]\n",
        "kmeans = KMeans(n_clusters=3, random_state=42)\n",
        "data['Cluster'] = kmeans.fit_predict(clustering_features)\n",
        "\n",
        "# Assign priority levels to each cluster\n",
        "cluster_priority = {}\n",
        "for cluster in range(3):\n",
        "    cluster_data = data[data['Cluster'] == cluster]\n",
        "    avg_rate = cluster_data['Rate'].mean()\n",
        "    cluster_priority[cluster] = 'High' if avg_rate > np.percentile(data['Rate'], 70) else 'Low'\n",
        "\n",
        "# Define processing frequencies\n",
        "processing_frequency = {'High': 1, 'Low': 3}\n",
        "\n"
      ],
      "metadata": {
        "id": "PId3x0QpCmvx"
      },
      "execution_count": null,
      "outputs": []
    },
    {
      "cell_type": "markdown",
      "source": [
        "# **Step 3: Split the dataset among multiple RSUs**"
      ],
      "metadata": {
        "id": "W2YUJh75kzh-"
      }
    },
    {
      "cell_type": "code",
      "source": [
        "def split_data(data, num_clients=3):\n",
        "    rsu_datasets = []\n",
        "    split_size = len(data) // num_clients\n",
        "    for i in range(num_clients):\n",
        "        rsu_data = data.iloc[i * split_size: (i + 1) * split_size]\n",
        "        rsu_datasets.append(rsu_data)\n",
        "    return rsu_datasets\n",
        "\n",
        "num_clients = 3\n",
        "rsu_datasets = split_data(data, num_clients=num_clients)\n",
        "\n"
      ],
      "metadata": {
        "id": "iDPHu3KFCqmd"
      },
      "execution_count": null,
      "outputs": []
    },
    {
      "cell_type": "markdown",
      "source": [
        "#**Step 4: Define the model**"
      ],
      "metadata": {
        "id": "sBuzSV-FlCM3"
      }
    },
    {
      "cell_type": "code",
      "source": [
        "\n",
        "class RSUModel(nn.Module):\n",
        "    def __init__(self):\n",
        "        super(RSUModel, self).__init__()\n",
        "        self.fc1 = nn.Linear(4, 64)\n",
        "        self.fc2 = nn.Linear(64, 32)\n",
        "        self.fc3 = nn.Linear(32, 16)\n",
        "        self.fc4 = nn.Linear(16, 1)\n",
        "        self.dropout = nn.Dropout(0.3)\n",
        "\n",
        "    def forward(self, x):\n",
        "        x = torch.relu(self.fc1(x))\n",
        "        x = self.dropout(x)\n",
        "        x = torch.relu(self.fc2(x))\n",
        "        x = self.dropout(x)\n",
        "        x = torch.relu(self.fc3(x))\n",
        "        return self.fc4(x)\n"
      ],
      "metadata": {
        "id": "_EX73E1aCxds"
      },
      "execution_count": null,
      "outputs": []
    },
    {
      "cell_type": "markdown",
      "source": [
        "#**Step 5: Train each RSU locally**"
      ],
      "metadata": {
        "id": "Yxv83506lJpl"
      }
    },
    {
      "cell_type": "code",
      "source": [
        "def train_local_model(rsu_data, model, epochs=5, lr=0.001):\n",
        "    criterion = nn.MSELoss()\n",
        "    optimizer = optim.Adam(model.parameters(), lr=lr)\n",
        "\n",
        "    features = rsu_data[['Rate', 'Sender Stopping Distance', 'Receiver Stopping Distance', 'Actual Distance']].values\n",
        "    labels = scaler_labels.transform(rsu_data[['Severity']].values)\n",
        "\n",
        "    features_tensor = torch.tensor(features, dtype=torch.float32)\n",
        "    labels_tensor = torch.tensor(labels, dtype=torch.float32)\n",
        "\n",
        "    dataset = TensorDataset(features_tensor, labels_tensor)\n",
        "    dataloader = DataLoader(dataset, batch_size=8, shuffle=True)\n",
        "\n",
        "    for epoch in range(epochs):\n",
        "        for features_batch, labels_batch in dataloader:\n",
        "            optimizer.zero_grad()\n",
        "            predictions = model(features_batch)\n",
        "            loss = criterion(predictions, labels_batch)\n",
        "            loss.backward()\n",
        "            optimizer.step()\n",
        "\n",
        "    return model.state_dict(), loss.item()\n"
      ],
      "metadata": {
        "id": "iGkPzDtdC0kO"
      },
      "execution_count": null,
      "outputs": []
    },
    {
      "cell_type": "markdown",
      "source": [
        "#**Step 6: Federated averaging:**\n",
        "\n",
        "\n"
      ],
      "metadata": {
        "id": "TbbB77holc8Q"
      }
    },
    {
      "cell_type": "code",
      "source": [
        "def federated_averaging(models):\n",
        "    global_model_state = models[0].copy()\n",
        "    for key in global_model_state:\n",
        "        for model_state in models[1:]:\n",
        "            global_model_state[key] += model_state[key]\n",
        "        global_model_state[key] /= len(models)\n",
        "    return global_model_state\n"
      ],
      "metadata": {
        "id": "G6ROnv_7C-sk"
      },
      "execution_count": null,
      "outputs": []
    },
    {
      "cell_type": "markdown",
      "source": [
        "## **Step 7: Simulate federated learning with processing frequency based on priority**"
      ],
      "metadata": {
        "id": "xtpZbEhGmKnH"
      }
    },
    {
      "cell_type": "code",
      "source": [
        "global_model = RSUModel()\n",
        "rsu_models = [RSUModel() for _ in range(num_clients)]\n",
        "\n",
        "print(\"\\nFederated Learning Simulation with Multiple RSUs and Processing Frequency\")\n",
        "for cycle in range(10):  # Simulate 10 communication rounds\n",
        "    print(f\"\\nCycle {cycle + 1}:\")\n",
        "    local_models = []\n",
        "    for i, rsu_data in enumerate(rsu_datasets):\n",
        "        cluster_id = rsu_data['Cluster'].iloc[0]\n",
        "        priority = cluster_priority[cluster_id]\n",
        "\n",
        "        # Check if the RSU should be processed in this cycle based on its priority\n",
        "        if (cycle + 1) % processing_frequency[priority] == 0:\n",
        "            print(f\"  Training RSU {i + 1} (Cluster: {cluster_id}, Priority: {priority})\")\n",
        "            model_state, loss = train_local_model(rsu_data, rsu_models[i], epochs=5)\n",
        "            local_models.append(model_state)\n",
        "            print(f\"    - RSU {i + 1} Local Training Loss: {loss:.4f}\")\n",
        "\n",
        "    # Perform federated averaging only if models were trained in this cycle\n",
        "    if local_models:\n",
        "        global_model_state = federated_averaging(local_models)\n",
        "        global_model.load_state_dict(global_model_state)\n",
        "\n",
        "        # Update local models with the new global model\n",
        "        for rsu_model in rsu_models:\n",
        "            rsu_model.load_state_dict(global_model_state)\n",
        "\n",
        "print(\"\\nFederated Learning Completed. Global Model is updated.\")"
      ],
      "metadata": {
        "colab": {
          "base_uri": "https://localhost:8080/"
        },
        "id": "lNQFysmPDB2Z",
        "outputId": "0fdf7a6e-065d-41c8-8cdf-e531e31883c3"
      },
      "execution_count": null,
      "outputs": [
        {
          "output_type": "stream",
          "name": "stdout",
          "text": [
            "\n",
            "Federated Learning Simulation with Multiple RSUs and Processing Frequency\n",
            "\n",
            "Cycle 1:\n",
            "  Training RSU 1 (Cluster: 2, Priority: High)\n",
            "    - RSU 1 Local Training Loss: 0.3963\n",
            "\n",
            "Cycle 2:\n",
            "  Training RSU 1 (Cluster: 2, Priority: High)\n",
            "    - RSU 1 Local Training Loss: 0.0628\n",
            "\n",
            "Cycle 3:\n",
            "  Training RSU 1 (Cluster: 2, Priority: High)\n",
            "    - RSU 1 Local Training Loss: 0.0499\n",
            "  Training RSU 2 (Cluster: 1, Priority: Low)\n",
            "    - RSU 2 Local Training Loss: 0.1119\n",
            "  Training RSU 3 (Cluster: 1, Priority: Low)\n",
            "    - RSU 3 Local Training Loss: 0.0610\n",
            "\n",
            "Cycle 4:\n",
            "  Training RSU 1 (Cluster: 2, Priority: High)\n",
            "    - RSU 1 Local Training Loss: 0.1920\n",
            "\n",
            "Cycle 5:\n",
            "  Training RSU 1 (Cluster: 2, Priority: High)\n",
            "    - RSU 1 Local Training Loss: 0.3608\n",
            "\n",
            "Cycle 6:\n",
            "  Training RSU 1 (Cluster: 2, Priority: High)\n",
            "    - RSU 1 Local Training Loss: 0.0548\n",
            "  Training RSU 2 (Cluster: 1, Priority: Low)\n",
            "    - RSU 2 Local Training Loss: 0.2095\n",
            "  Training RSU 3 (Cluster: 1, Priority: Low)\n",
            "    - RSU 3 Local Training Loss: 0.1382\n",
            "\n",
            "Cycle 7:\n",
            "  Training RSU 1 (Cluster: 2, Priority: High)\n",
            "    - RSU 1 Local Training Loss: 0.4620\n",
            "\n",
            "Cycle 8:\n",
            "  Training RSU 1 (Cluster: 2, Priority: High)\n",
            "    - RSU 1 Local Training Loss: 0.0328\n",
            "\n",
            "Cycle 9:\n",
            "  Training RSU 1 (Cluster: 2, Priority: High)\n",
            "    - RSU 1 Local Training Loss: 0.0448\n",
            "  Training RSU 2 (Cluster: 1, Priority: Low)\n",
            "    - RSU 2 Local Training Loss: 0.0159\n",
            "  Training RSU 3 (Cluster: 1, Priority: Low)\n",
            "    - RSU 3 Local Training Loss: 0.0501\n",
            "\n",
            "Cycle 10:\n",
            "  Training RSU 1 (Cluster: 2, Priority: High)\n",
            "    - RSU 1 Local Training Loss: 0.1562\n",
            "\n",
            "Federated Learning Completed. Global Model is updated.\n"
          ]
        }
      ]
    },
    {
      "cell_type": "code",
      "source": [],
      "metadata": {
        "id": "3uMdKlyGHrgX"
      },
      "execution_count": null,
      "outputs": []
    },
    {
      "cell_type": "markdown",
      "source": [
        "#using spark"
      ],
      "metadata": {
        "id": "7WTiKyTlIoPf"
      }
    },
    {
      "cell_type": "code",
      "source": [
        "from pyspark.sql import SparkSession\n",
        "from pyspark.ml.feature import MinMaxScaler as SparkMinMaxScaler\n",
        "from pyspark.ml.clustering import KMeans as SparkKMeans\n",
        "from pyspark.sql.functions import col\n",
        "import torch\n",
        "import torch.nn as nn\n",
        "import torch.optim as optim\n",
        "from torch.utils.data import DataLoader, TensorDataset\n",
        "import numpy as np\n",
        "import matplotlib.pyplot as plt"
      ],
      "metadata": {
        "id": "T7y_gAArm6ac"
      },
      "execution_count": null,
      "outputs": []
    },
    {
      "cell_type": "markdown",
      "source": [
        "\n",
        "#**Initialize Spark session**"
      ],
      "metadata": {
        "id": "fbu4Q0UZnDje"
      }
    },
    {
      "cell_type": "code",
      "source": [
        "spark = SparkSession.builder.appName(\"FederatedLearning\").getOrCreate()"
      ],
      "metadata": {
        "id": "MeYv4cZ3m6N_"
      },
      "execution_count": null,
      "outputs": []
    },
    {
      "cell_type": "code",
      "source": [
        "from pyspark.ml.feature import VectorAssembler, MinMaxScaler\n",
        "\n",
        "# Load the dataset into a Spark DataFrame\n",
        "file_path = '/content/drive/MyDrive/128V_10PPS_Processed_C105_disc.csv'\n",
        "data = spark.read.csv(file_path, header=True, inferSchema=True)\n",
        "\n",
        "# Drop unnecessary column\n",
        "data = data.drop(\"Unnamed: 0\")\n",
        "\n",
        "# Separate features and label\n",
        "features = data.drop(\"Severity\")\n",
        "label = data.select(\"Severity\")"
      ],
      "metadata": {
        "id": "qq6ItYWfm6B5"
      },
      "execution_count": null,
      "outputs": []
    },
    {
      "cell_type": "markdown",
      "source": [
        "#**Normalize the features using Spark's MinMaxScaler**"
      ],
      "metadata": {
        "id": "QzYRlhRqnlp3"
      }
    },
    {
      "cell_type": "code",
      "source": [
        "assembler = VectorAssembler(inputCols=features.columns, outputCol=\"features\")\n",
        "data = assembler.transform(data)\n",
        "\n",
        "# Normalize the features\n",
        "scaler_features = MinMaxScaler(inputCol=\"features\", outputCol=\"normalized_features\")\n",
        "scaler_features_model = scaler_features.fit(data)\n",
        "data = scaler_features_model.transform(data)\n",
        "\n",
        "# Convert 'Severity' to a vector column\n",
        "label_assembler = VectorAssembler(inputCols=[\"Severity\"], outputCol=\"label_vector\")\n",
        "data = label_assembler.transform(data)\n",
        "\n",
        "# Normalize the label (Severity)\n",
        "scaler_labels = MinMaxScaler(inputCol=\"label_vector\", outputCol=\"normalized_severity\")\n",
        "scaler_labels_model = scaler_labels.fit(data)\n",
        "data = scaler_labels_model.transform(data)"
      ],
      "metadata": {
        "id": "sVLA2lTBm51L"
      },
      "execution_count": null,
      "outputs": []
    },
    {
      "cell_type": "markdown",
      "source": [
        "# **Apply KMeans clustering**"
      ],
      "metadata": {
        "id": "46ua9cstny1p"
      }
    },
    {
      "cell_type": "code",
      "source": [
        "kmeans = SparkKMeans(k=3, seed=42, featuresCol=\"normalized_features\", predictionCol=\"Cluster\")\n",
        "model = kmeans.fit(data)\n",
        "data = model.transform(data)"
      ],
      "metadata": {
        "id": "7AuYLZ19m5n-"
      },
      "execution_count": null,
      "outputs": []
    },
    {
      "cell_type": "markdown",
      "source": [
        "# **Visualize cluster distribution**\n"
      ],
      "metadata": {
        "id": "z7bdYoTwn-su"
      }
    },
    {
      "cell_type": "code",
      "source": [
        "cluster_counts = data.groupBy(\"Cluster\").count().collect()\n",
        "clusters, counts = zip(*[(row[\"Cluster\"], row[\"count\"]) for row in cluster_counts])\n",
        "\n",
        "plt.figure(figsize=(8, 6))\n",
        "plt.bar(clusters, counts, color='skyblue')\n",
        "plt.title(\"Cluster Distribution\")\n",
        "plt.xlabel(\"Cluster\")\n",
        "plt.ylabel(\"Number of Points\")\n",
        "plt.show()"
      ],
      "metadata": {
        "id": "G5g2lr_xm5ZV",
        "colab": {
          "base_uri": "https://localhost:8080/",
          "height": 584
        },
        "outputId": "0c8d9f72-ac30-4da6-86b8-b4f367b5c95f"
      },
      "execution_count": null,
      "outputs": [
        {
          "output_type": "display_data",
          "data": {
            "text/plain": [
              "<Figure size 800x600 with 1 Axes>"
            ],
            "image/png": "[encoded data removed]"
          },
          "metadata": {}
        }
      ]
    },
    {
      "cell_type": "markdown",
      "source": [
        "# **Assign priority levels to each cluster**\n"
      ],
      "metadata": {
        "id": "SQNhcb7YoGya"
      }
    },
    {
      "cell_type": "code",
      "source": [
        "cluster_priority = {}\n",
        "for cluster in range(3):\n",
        "    cluster_data = data.filter(col(\"Cluster\") == cluster)\n",
        "    avg_rate = cluster_data.select(\"Rate\").agg({\"Rate\": \"avg\"}).collect()[0][0]\n",
        "    percentile_70 = np.percentile(\n",
        "        [row[\"Rate\"] for row in cluster_data.select(\"Rate\").collect()], 70\n",
        "    )\n",
        "    cluster_priority[cluster] = \"High\" if avg_rate > percentile_70 else \"Low\"\n",
        "\n",
        "\n",
        "# Define processing frequencies\n",
        "processing_frequency = {\"High\": 1, \"Low\": 3}\n",
        "\n"
      ],
      "metadata": {
        "id": "w0lwbr4Jm5LB"
      },
      "execution_count": null,
      "outputs": []
    },
    {
      "cell_type": "markdown",
      "source": [
        "# **Split the dataset among multiple RSUs**"
      ],
      "metadata": {
        "id": "fishRRyCoTf8"
      }
    },
    {
      "cell_type": "code",
      "source": [
        "def split_data_by_cluster(data, num_clients=3):\n",
        "    clusters = data.select(\"Cluster\").distinct().collect()\n",
        "    cluster_datasets = {}\n",
        "\n",
        "    for cluster in clusters:\n",
        "        cluster_id = cluster[\"Cluster\"]\n",
        "        cluster_datasets[cluster_id] = data.filter(col(\"Cluster\") == cluster_id)\n",
        "\n",
        "    rsu_datasets = []\n",
        "    for i in range(num_clients):\n",
        "        client_data = None\n",
        "        for cluster_id in cluster_datasets:\n",
        "            cluster_data = cluster_datasets[cluster_id].sample(\n",
        "                withReplacement=False, fraction=1.0 / num_clients\n",
        "            )\n",
        "            if client_data is None:\n",
        "                client_data = cluster_data\n",
        "            else:\n",
        "                client_data = client_data.union(cluster_data)\n",
        "        rsu_datasets.append(client_data)\n",
        "\n",
        "    return rsu_datasets\n",
        "\n",
        "num_clients = 3\n",
        "rsu_datasets = split_data_by_cluster(data, num_clients=num_clients)"
      ],
      "metadata": {
        "id": "89No0dI-m43_"
      },
      "execution_count": null,
      "outputs": []
    },
    {
      "cell_type": "markdown",
      "source": [
        "# **Define RSU model**"
      ],
      "metadata": {
        "id": "PP0seOMZoti2"
      }
    },
    {
      "cell_type": "code",
      "source": [
        "class RSUModel(nn.Module):\n",
        "    def __init__(self):\n",
        "        super(RSUModel, self).__init__()\n",
        "        self.fc1 = nn.Linear(4, 64)\n",
        "        self.fc2 = nn.Linear(64, 32)\n",
        "        self.fc3 = nn.Linear(32, 16)\n",
        "        self.fc4 = nn.Linear(16, 1)\n",
        "        self.dropout = nn.Dropout(0.3)\n",
        "\n",
        "    def forward(self, x):\n",
        "        x = torch.relu(self.fc1(x))\n",
        "        x = self.dropout(x)\n",
        "        x = torch.relu(self.fc2(x))\n",
        "        x = self.dropout(x)\n",
        "        x = torch.relu(self.fc3(x))\n",
        "        return self.fc4(x)\n"
      ],
      "metadata": {
        "id": "GOKRAHvGm4C6"
      },
      "execution_count": null,
      "outputs": []
    },
    {
      "cell_type": "markdown",
      "source": [
        "# **Train RSU locally**"
      ],
      "metadata": {
        "id": "5MjbmPfSo4Wc"
      }
    },
    {
      "cell_type": "code",
      "source": [
        "def train_local_model(rsu_data, model, epochs=5, lr=0.001):\n",
        "    criterion = nn.MSELoss()\n",
        "    optimizer = optim.Adam(model.parameters(), lr=lr)\n",
        "\n",
        "    # Convert Spark DataFrame to pandas for features\n",
        "    features = rsu_data.select(\n",
        "        \"Rate\", \"Sender Stopping Distance\", \"Receiver Stopping Distance\", \"Actual Distance\"\n",
        "    ).toPandas().values\n",
        "\n",
        "    labels = rsu_data.select(\"normalized_severity\").rdd.flatMap(lambda x: x).collect()\n",
        "    labels = np.array([label[0] for label in labels]).astype(np.float32).reshape(-1, 1)\n",
        "\n",
        "    features_tensor = torch.tensor(features, dtype=torch.float32)\n",
        "    labels_tensor = torch.tensor(labels, dtype=torch.float32)\n",
        "\n",
        "    dataset = TensorDataset(features_tensor, labels_tensor)\n",
        "    dataloader = DataLoader(dataset, batch_size=8, shuffle=True)\n",
        "\n",
        "    training_losses = []\n",
        "    for epoch in range(epochs):\n",
        "        for features_batch, labels_batch in dataloader:\n",
        "            optimizer.zero_grad()\n",
        "            predictions = model(features_batch)\n",
        "            loss = criterion(predictions, labels_batch)\n",
        "            loss.backward()\n",
        "            optimizer.step()\n",
        "        training_losses.append(loss.item())\n",
        "\n",
        "    return model.state_dict(), training_losses"
      ],
      "metadata": {
        "id": "w7nA5PfDpBkp"
      },
      "execution_count": null,
      "outputs": []
    },
    {
      "cell_type": "markdown",
      "source": [
        "# **Federated averaging**"
      ],
      "metadata": {
        "id": "1wPrsR7opEzl"
      }
    },
    {
      "cell_type": "code",
      "source": [
        "def federated_averaging(models):\n",
        "    global_model_state = models[0].copy()\n",
        "    for key in global_model_state:\n",
        "        for model_state in models[1:]:\n",
        "            global_model_state[key] += model_state[key]\n",
        "        global_model_state[key] /= len(models)\n",
        "    return global_model_state"
      ],
      "metadata": {
        "id": "IJ9SCXvEpNlH"
      },
      "execution_count": null,
      "outputs": []
    },
    {
      "cell_type": "markdown",
      "source": [
        "\n",
        "# **Federated Learning Simulation with Visualizations**"
      ],
      "metadata": {
        "id": "L1BmqlmJpTNV"
      }
    },
    {
      "cell_type": "code",
      "source": [
        "global_model = RSUModel()\n",
        "rsu_models = [RSUModel() for _ in range(num_clients)]\n",
        "\n",
        "all_cycle_losses = []\n",
        "\n",
        "for cycle in range(10):  # Simulate 10 communication rounds\n",
        "    print(f\"\\nCycle {cycle + 1}:\")\n",
        "    local_models = []\n",
        "    cycle_losses = []\n",
        "\n",
        "    for i, rsu_data in enumerate(rsu_datasets):\n",
        "        clusters_in_rsu = rsu_data.select(\"Cluster\").distinct().collect()\n",
        "        for cluster_row in clusters_in_rsu:\n",
        "            cluster_id = cluster_row[\"Cluster\"]\n",
        "            priority = cluster_priority[cluster_id]\n",
        "\n",
        "            # Train only if the cluster's priority matches the cycle frequency\n",
        "            if (cycle + 1) % processing_frequency[priority] == 0:\n",
        "                print(f\"  Training RSU {i + 1} (Cluster: {cluster_id}, Priority: {priority})\")\n",
        "                model_state, losses = train_local_model(rsu_data, rsu_models[i], epochs=5)\n",
        "                local_models.append(model_state)\n",
        "                cycle_losses.append(np.mean(losses))\n",
        "                print(f\"    - RSU {i + 1} Local Training Loss: {losses[-1]:.4f}\")\n",
        "\n",
        "    all_cycle_losses.append(np.mean(cycle_losses) if cycle_losses else None)\n",
        "\n",
        "    if local_models:\n",
        "        global_model_state = federated_averaging(local_models)\n",
        "        global_model.load_state_dict(global_model_state)\n",
        "\n",
        "        for rsu_model in rsu_models:\n",
        "            rsu_model.load_state_dict(global_model_state)\n",
        "\n",
        "print(\"\\nFederated Learning Completed. Global Model is updated.\")\n"
      ],
      "metadata": {
        "id": "Cy5Fqdb6pxGd",
        "colab": {
          "base_uri": "https://localhost:8080/"
        },
        "outputId": "d5a3665c-53ee-4b54-ecdb-809d8de1c2d2"
      },
      "execution_count": null,
      "outputs": [
        {
          "output_type": "stream",
          "name": "stdout",
          "text": [
            "\n",
            "Cycle 1:\n",
            "  Training RSU 1 (Cluster: 2, Priority: High)\n",
            "    - RSU 1 Local Training Loss: 0.5364\n",
            "  Training RSU 2 (Cluster: 2, Priority: High)\n",
            "    - RSU 2 Local Training Loss: 0.0679\n",
            "  Training RSU 3 (Cluster: 2, Priority: High)\n",
            "    - RSU 3 Local Training Loss: 2.0328\n",
            "\n",
            "Cycle 2:\n",
            "  Training RSU 1 (Cluster: 2, Priority: High)\n",
            "    - RSU 1 Local Training Loss: 0.0474\n",
            "  Training RSU 2 (Cluster: 2, Priority: High)\n",
            "    - RSU 2 Local Training Loss: 0.0636\n",
            "  Training RSU 3 (Cluster: 2, Priority: High)\n",
            "    - RSU 3 Local Training Loss: 0.0706\n",
            "\n",
            "Cycle 3:\n",
            "  Training RSU 1 (Cluster: 1, Priority: Low)\n",
            "    - RSU 1 Local Training Loss: 0.0990\n",
            "  Training RSU 1 (Cluster: 2, Priority: High)\n",
            "    - RSU 1 Local Training Loss: 0.0655\n",
            "  Training RSU 1 (Cluster: 0, Priority: Low)\n",
            "    - RSU 1 Local Training Loss: 0.1426\n",
            "  Training RSU 2 (Cluster: 1, Priority: Low)\n",
            "    - RSU 2 Local Training Loss: 0.0927\n",
            "  Training RSU 2 (Cluster: 2, Priority: High)\n",
            "    - RSU 2 Local Training Loss: 0.0984\n",
            "  Training RSU 2 (Cluster: 0, Priority: Low)\n",
            "    - RSU 2 Local Training Loss: 0.1501\n",
            "  Training RSU 3 (Cluster: 1, Priority: Low)\n",
            "    - RSU 3 Local Training Loss: 0.0244\n",
            "  Training RSU 3 (Cluster: 2, Priority: High)\n",
            "    - RSU 3 Local Training Loss: 0.1232\n",
            "  Training RSU 3 (Cluster: 0, Priority: Low)\n",
            "    - RSU 3 Local Training Loss: 0.0162\n",
            "\n",
            "Cycle 4:\n",
            "  Training RSU 1 (Cluster: 2, Priority: High)\n",
            "    - RSU 1 Local Training Loss: 0.0661\n",
            "  Training RSU 2 (Cluster: 2, Priority: High)\n",
            "    - RSU 2 Local Training Loss: 0.2059\n",
            "  Training RSU 3 (Cluster: 2, Priority: High)\n",
            "    - RSU 3 Local Training Loss: 0.0113\n",
            "\n",
            "Cycle 5:\n",
            "  Training RSU 1 (Cluster: 2, Priority: High)\n",
            "    - RSU 1 Local Training Loss: 0.1814\n",
            "  Training RSU 2 (Cluster: 2, Priority: High)\n",
            "    - RSU 2 Local Training Loss: 0.0219\n",
            "  Training RSU 3 (Cluster: 2, Priority: High)\n",
            "    - RSU 3 Local Training Loss: 0.0192\n",
            "\n",
            "Cycle 6:\n",
            "  Training RSU 1 (Cluster: 1, Priority: Low)\n",
            "    - RSU 1 Local Training Loss: 0.0359\n",
            "  Training RSU 1 (Cluster: 2, Priority: High)\n",
            "    - RSU 1 Local Training Loss: 0.0725\n",
            "  Training RSU 1 (Cluster: 0, Priority: Low)\n",
            "    - RSU 1 Local Training Loss: 0.0778\n",
            "  Training RSU 2 (Cluster: 1, Priority: Low)\n",
            "    - RSU 2 Local Training Loss: 0.0119\n",
            "  Training RSU 2 (Cluster: 2, Priority: High)\n",
            "    - RSU 2 Local Training Loss: 0.1130\n",
            "  Training RSU 2 (Cluster: 0, Priority: Low)\n",
            "    - RSU 2 Local Training Loss: 0.0717\n",
            "  Training RSU 3 (Cluster: 1, Priority: Low)\n",
            "    - RSU 3 Local Training Loss: 0.0102\n",
            "  Training RSU 3 (Cluster: 2, Priority: High)\n",
            "    - RSU 3 Local Training Loss: 0.0206\n",
            "  Training RSU 3 (Cluster: 0, Priority: Low)\n",
            "    - RSU 3 Local Training Loss: 0.0039\n",
            "\n",
            "Cycle 7:\n",
            "  Training RSU 1 (Cluster: 2, Priority: High)\n",
            "    - RSU 1 Local Training Loss: 0.0665\n",
            "  Training RSU 2 (Cluster: 2, Priority: High)\n",
            "    - RSU 2 Local Training Loss: 0.1061\n",
            "  Training RSU 3 (Cluster: 2, Priority: High)\n",
            "    - RSU 3 Local Training Loss: 0.0334\n",
            "\n",
            "Cycle 8:\n",
            "  Training RSU 1 (Cluster: 2, Priority: High)\n",
            "    - RSU 1 Local Training Loss: 0.0971\n",
            "  Training RSU 2 (Cluster: 2, Priority: High)\n",
            "    - RSU 2 Local Training Loss: 0.0180\n",
            "  Training RSU 3 (Cluster: 2, Priority: High)\n",
            "    - RSU 3 Local Training Loss: 0.0618\n",
            "\n",
            "Cycle 9:\n",
            "  Training RSU 1 (Cluster: 1, Priority: Low)\n",
            "    - RSU 1 Local Training Loss: 0.0529\n",
            "  Training RSU 1 (Cluster: 2, Priority: High)\n",
            "    - RSU 1 Local Training Loss: 0.0407\n",
            "  Training RSU 1 (Cluster: 0, Priority: Low)\n",
            "    - RSU 1 Local Training Loss: 0.0199\n",
            "  Training RSU 2 (Cluster: 1, Priority: Low)\n",
            "    - RSU 2 Local Training Loss: 0.0688\n",
            "  Training RSU 2 (Cluster: 2, Priority: High)\n",
            "    - RSU 2 Local Training Loss: 0.0000\n",
            "  Training RSU 2 (Cluster: 0, Priority: Low)\n",
            "    - RSU 2 Local Training Loss: 0.0775\n",
            "  Training RSU 3 (Cluster: 1, Priority: Low)\n",
            "    - RSU 3 Local Training Loss: 0.0082\n",
            "  Training RSU 3 (Cluster: 2, Priority: High)\n",
            "    - RSU 3 Local Training Loss: 0.0305\n",
            "  Training RSU 3 (Cluster: 0, Priority: Low)\n",
            "    - RSU 3 Local Training Loss: 0.0696\n",
            "\n",
            "Cycle 10:\n",
            "  Training RSU 1 (Cluster: 2, Priority: High)\n",
            "    - RSU 1 Local Training Loss: 0.0409\n",
            "  Training RSU 2 (Cluster: 2, Priority: High)\n",
            "    - RSU 2 Local Training Loss: 0.0007\n",
            "  Training RSU 3 (Cluster: 2, Priority: High)\n",
            "    - RSU 3 Local Training Loss: 0.0031\n",
            "\n",
            "Federated Learning Completed. Global Model is updated.\n"
          ]
        }
      ]
    },
    {
      "cell_type": "markdown",
      "source": [
        "# **Plot the average loss per communication cycle**\n"
      ],
      "metadata": {
        "id": "lpYUvND9pYPG"
      }
    },
    {
      "cell_type": "code",
      "source": [
        "plt.figure(figsize=(10, 6))\n",
        "plt.plot(range(1, 11), all_cycle_losses, marker='o')\n",
        "plt.title(\"Average Loss per Communication Cycle\")\n",
        "plt.xlabel(\"Cycle\")\n",
        "plt.ylabel(\"Average Loss\")\n",
        "plt.grid(True)\n",
        "plt.show()\n",
        "\n"
      ],
      "metadata": {
        "id": "tWyfiN2ymFx_",
        "colab": {
          "base_uri": "https://localhost:8080/",
          "height": 584
        },
        "outputId": "0e2a15e4-4873-47c3-c7b8-04eea87db92a"
      },
      "execution_count": null,
      "outputs": [
        {
          "output_type": "display_data",
          "data": {
            "text/plain": [
              "<Figure size 1000x600 with 1 Axes>"
            ],
            "image/png": "[encoded data removed]"
          },
          "metadata": {}
        }
      ]
    },
    {
      "cell_type": "markdown",
      "source": [
        "#**TRIALS**"
      ],
      "metadata": {
        "id": "mT_XxwaDsbwS"
      }
    },
    {
      "cell_type": "code",
      "source": [
        "pip install pyspark\n"
      ],
      "metadata": {
        "id": "Tb3oeNRIHrc7"
      },
      "execution_count": null,
      "outputs": []
    },
    {
      "cell_type": "code",
      "source": [
        "from pyspark.sql import SparkSession\n",
        "from pyspark.ml.feature import MinMaxScaler as SparkMinMaxScaler\n",
        "from pyspark.ml.clustering import KMeans as SparkKMeans\n",
        "from pyspark.sql.functions import col\n",
        "import torch\n",
        "import torch.nn as nn\n",
        "import torch.optim as optim\n",
        "from torch.utils.data import DataLoader, TensorDataset\n",
        "import numpy as np\n",
        "\n",
        "# Initialize Spark session\n",
        "spark = SparkSession.builder.appName(\"FederatedLearning\").getOrCreate()\n"
      ],
      "metadata": {
        "id": "HHE_YflYHraP"
      },
      "execution_count": null,
      "outputs": []
    },
    {
      "cell_type": "code",
      "source": [
        "from pyspark.ml.feature import VectorAssembler, MinMaxScaler\n",
        "from pyspark.sql.functions import col\n",
        "\n",
        "# Load the dataset into a Spark DataFrame\n",
        "file_path = '/content/drive/MyDrive/output (1).csv'\n",
        "data = spark.read.csv(file_path, header=True, inferSchema=True)\n",
        "\n",
        "# Drop unnecessary column\n",
        "data = data.drop(\"Unnamed: 0\")\n",
        "\n",
        "# Separate features and label\n",
        "features = data.drop(\"Severity\")\n",
        "label = data.select(\"Severity\")\n",
        "\n",
        "# Normalize the features using Spark's MinMaxScaler\n",
        "assembler = VectorAssembler(inputCols=features.columns, outputCol=\"features\")\n",
        "data = assembler.transform(data)\n",
        "\n",
        "# Normalize the features\n",
        "scaler_features = MinMaxScaler(inputCol=\"features\", outputCol=\"normalized_features\")\n",
        "scaler_features_model = scaler_features.fit(data)\n",
        "data = scaler_features_model.transform(data)\n",
        "\n",
        "# Convert 'Severity' to a vector column\n",
        "label_assembler = VectorAssembler(inputCols=[\"Severity\"], outputCol=\"label_vector\")\n",
        "data = label_assembler.transform(data)\n",
        "\n",
        "# Normalize the label (Severity)\n",
        "scaler_labels = MinMaxScaler(inputCol=\"label_vector\", outputCol=\"normalized_severity\")\n",
        "scaler_labels_model = scaler_labels.fit(data)\n",
        "data = scaler_labels_model.transform(data)\n",
        "\n",
        "# Optionally, you can drop the 'label_vector' column since it's no longer needed\n",
        "data = data.drop(\"label_vector\")\n",
        "\n",
        "# Show the transformed data\n",
        "data.show()"
      ],
      "metadata": {
        "id": "rsO3xDXzPIAm"
      },
      "execution_count": null,
      "outputs": []
    },
    {
      "cell_type": "markdown",
      "source": [],
      "metadata": {
        "id": "jMlRck7KZvOy"
      }
    },
    {
      "cell_type": "code",
      "source": [
        "# Step 2: Update the clustering features and apply K-Means clustering\n",
        "clustering_features = normalized_features[:, [5, 6, 7, 4]]\n",
        "kmeans = KMeans(n_clusters=3, random_state=42)\n",
        "data['Cluster'] = kmeans.fit_predict(clustering_features)\n",
        "\n",
        "# Assign priority levels to each cluster\n",
        "cluster_priority = {}\n",
        "for cluster in range(3):\n",
        "    cluster_data = data[data['Cluster'] == cluster]\n",
        "    avg_rate = cluster_data['Rate'].mean()\n",
        "    cluster_priority[cluster] = 'High' if avg_rate > np.percentile(data['Rate'], 66) else 'Low'\n",
        "\n",
        "# Define processing frequencies\n",
        "processing_frequency = {'High': 1, 'Low': 3}\n",
        "\n"
      ],
      "metadata": {
        "id": "DSwaHdFQTD8m"
      },
      "execution_count": null,
      "outputs": []
    },
    {
      "cell_type": "code",
      "source": [
        "# Apply KMeans clustering\n",
        "kmeans = SparkKMeans(k=3, seed=42, featuresCol=\"normalized_features\", predictionCol=\"Cluster\")\n",
        "model = kmeans.fit(data)\n",
        "data = model.transform(data)\n",
        "\n",
        "# Assign priority levels to each cluster\n",
        "cluster_priority = {}\n",
        "for cluster in range(3):\n",
        "    cluster_data = data.filter(col(\"Cluster\") == cluster)\n",
        "    avg_rate = cluster_data.select(\"Rate\").agg({\"Rate\": \"avg\"}).collect()[0][0]\n",
        "    cluster_priority[cluster] = \"High\" if avg_rate > np.percentile(data.select(\"Rate\").rdd.flatMap(lambda x: x).collect(), 66) else \"Low\"\n"
      ],
      "metadata": {
        "id": "ZRD83V0-HrYX"
      },
      "execution_count": null,
      "outputs": []
    },
    {
      "cell_type": "code",
      "source": [
        "# Apply KMeans clustering\n",
        "kmeans = SparkKMeans(k=3, seed=42, featuresCol=\"normalized_features\", predictionCol=\"Cluster\")\n",
        "model = kmeans.fit(data)\n",
        "data = model.transform(data)\n",
        "\n",
        "# Assign priority levels to each cluster\n",
        "cluster_priority = {}\n",
        "for cluster in range(3):\n",
        "    # Filter data by cluster\n",
        "    cluster_data = data.filter(col(\"Cluster\") == cluster)\n",
        "\n",
        "    # Calculate average rate for the cluster\n",
        "    avg_rate = cluster_data.select(\"Rate\").agg({\"Rate\": \"avg\"}).collect()[0][0]\n",
        "\n",
        "    # Calculate the 66th percentile for the current cluster's Rate\n",
        "    percentile_66 = np.percentile([row['Rate'] for row in cluster_data.select(\"Rate\").collect()], 66)\n",
        "\n",
        "    # Assign priority based on the average rate and percentile within the cluster\n",
        "    cluster_priority[cluster] = \"High\" if avg_rate > percentile_66 else \"Low\"\n"
      ],
      "metadata": {
        "id": "UNpShi12WiYR"
      },
      "execution_count": null,
      "outputs": []
    },
    {
      "cell_type": "code",
      "source": [
        "# Split the dataset among multiple RSUs\n",
        "def split_data(data, num_clients=3):\n",
        "    return data.randomSplit([1.0 / num_clients] * num_clients)\n",
        "\n",
        "num_clients = 3\n",
        "rsu_datasets = split_data(data, num_clients=num_clients)\n"
      ],
      "metadata": {
        "id": "jGfNk2mzHrWB"
      },
      "execution_count": null,
      "outputs": []
    },
    {
      "cell_type": "code",
      "source": [
        "class RSUModel(nn.Module):\n",
        "    def __init__(self):\n",
        "        super(RSUModel, self).__init__()\n",
        "        self.fc1 = nn.Linear(4, 64)\n",
        "        self.fc2 = nn.Linear(64, 32)\n",
        "        self.fc3 = nn.Linear(32, 16)\n",
        "        self.fc4 = nn.Linear(16, 1)\n",
        "        self.dropout = nn.Dropout(0.3)\n",
        "\n",
        "    def forward(self, x):\n",
        "        x = torch.relu(self.fc1(x))\n",
        "        x = self.dropout(x)\n",
        "        x = torch.relu(self.fc2(x))\n",
        "        x = self.dropout(x)\n",
        "        x = torch.relu(self.fc3(x))\n",
        "        return self.fc4(x)\n"
      ],
      "metadata": {
        "id": "SqbH2U9DHrT6"
      },
      "execution_count": null,
      "outputs": []
    },
    {
      "cell_type": "code",
      "source": [
        "def train_local_model(rsu_data, model, epochs=5, lr=0.001):\n",
        "    criterion = nn.MSELoss()\n",
        "    optimizer = optim.Adam(model.parameters(), lr=lr)\n",
        "\n",
        "    # Convert Spark DataFrame to pandas for features\n",
        "    features = rsu_data.select(\"Rate\", \"Sender Stopping Distance\", \"Receiver Stopping Distance\", \"Actual Distance\").toPandas().values\n",
        "\n",
        "    # Extract the label column ('normalized_severity') as a DenseVector, and convert it to a numpy array\n",
        "    labels = rsu_data.select(\"normalized_severity\").rdd.flatMap(lambda x: x).collect()\n",
        "    labels = np.array([label[0] for label in labels])  # Extract the scalar values from the DenseVector\n",
        "\n",
        "    # Ensure labels are in float32 format\n",
        "    labels = labels.astype(np.float32).reshape(-1, 1)\n",
        "\n",
        "    features_tensor = torch.tensor(features, dtype=torch.float32)\n",
        "    labels_tensor = torch.tensor(labels, dtype=torch.float32)\n",
        "\n",
        "    dataset = TensorDataset(features_tensor, labels_tensor)\n",
        "    dataloader = DataLoader(dataset, batch_size=8, shuffle=True)\n",
        "\n",
        "    for epoch in range(epochs):\n",
        "        for features_batch, labels_batch in dataloader:\n",
        "            optimizer.zero_grad()\n",
        "            predictions = model(features_batch)\n",
        "            loss = criterion(predictions, labels_batch)\n",
        "            loss.backward()\n",
        "            optimizer.step()\n",
        "\n",
        "    return model.state_dict(), loss.item()\n"
      ],
      "metadata": {
        "id": "EQB3iOxNHrRt"
      },
      "execution_count": null,
      "outputs": []
    },
    {
      "cell_type": "code",
      "source": [
        "def federated_averaging(models):\n",
        "    global_model_state = models[0].copy()\n",
        "    for key in global_model_state:\n",
        "        for model_state in models[1:]:\n",
        "            global_model_state[key] += model_state[key]\n",
        "        global_model_state[key] /= len(models)\n",
        "    return global_model_state\n"
      ],
      "metadata": {
        "id": "cZ7PL9yuRuUv"
      },
      "execution_count": null,
      "outputs": []
    },
    {
      "cell_type": "code",
      "source": [
        "global_model = RSUModel()\n",
        "rsu_models = [RSUModel() for _ in range(num_clients)]\n",
        "\n",
        "print(\"\\nFederated Learning Simulation with Multiple RSUs and Processing Frequency\")\n",
        "for cycle in range(10):  # Simulate 10 communication rounds\n",
        "    print(f\"\\nCycle {cycle + 1}:\")\n",
        "    local_models = []\n",
        "    for i, rsu_data in enumerate(rsu_datasets):\n",
        "        cluster_id = rsu_data.select(\"Cluster\").first()[0]\n",
        "        priority = cluster_priority[cluster_id]\n",
        "\n",
        "        # Check if the RSU should be processed in this cycle based on its priority\n",
        "        if (cycle + 1) % processing_frequency[priority] == 0:\n",
        "            print(f\"  Training RSU {i + 1} (Cluster: {cluster_id}, Priority: {priority})\")\n",
        "            model_state, loss = train_local_model(rsu_data, rsu_models[i], epochs=5)\n",
        "            local_models.append(model_state)\n",
        "            print(f\"    - RSU {i + 1} Local Training Loss: {loss:.4f}\")\n",
        "\n",
        "    # Perform federated averaging only if models were trained in this cycle\n",
        "    if local_models:\n",
        "        global_model_state = federated_averaging(local_models)\n",
        "        global_model.load_state_dict(global_model_state)\n",
        "\n",
        "        # Update local models with the new global model\n",
        "        for rsu_model in rsu_models:\n",
        "            rsu_model.load_state_dict(global_model_state)\n",
        "\n",
        "print(\"\\nFederated Learning Completed. Global Model is updated.\")\n"
      ],
      "metadata": {
        "id": "vWF29C6RRuRZ"
      },
      "execution_count": null,
      "outputs": []
    },
    {
      "cell_type": "code",
      "source": [],
      "metadata": {
        "id": "6mHBpNQlW3Jw"
      },
      "execution_count": null,
      "outputs": []
    },
    {
      "cell_type": "markdown",
      "source": [
        "#SAHI WALA CODE"
      ],
      "metadata": {
        "id": "UrRhsZUeXntf"
      }
    },
    {
      "cell_type": "code",
      "source": [
        "from pyspark.sql import SparkSession\n",
        "from pyspark.ml.feature import MinMaxScaler as SparkMinMaxScaler\n",
        "from pyspark.ml.clustering import KMeans as SparkKMeans\n",
        "from pyspark.sql.functions import col\n",
        "import torch\n",
        "import torch.nn as nn\n",
        "import torch.optim as optim\n",
        "from torch.utils.data import DataLoader, TensorDataset\n",
        "import numpy as np\n",
        "\n",
        "# Initialize Spark session\n",
        "spark = SparkSession.builder.appName(\"FederatedLearning\").getOrCreate()\n",
        "\n",
        "from pyspark.ml.feature import VectorAssembler, MinMaxScaler\n",
        "from pyspark.sql.functions import col\n",
        "\n",
        "# Load the dataset into a Spark DataFrame\n",
        "file_path = '/content/drive/MyDrive/output (1).csv'\n",
        "data = spark.read.csv(file_path, header=True, inferSchema=True)\n",
        "\n",
        "# Drop unnecessary column\n",
        "data = data.drop(\"Unnamed: 0\")\n",
        "\n",
        "# Separate features and label\n",
        "features = data.drop(\"Severity\")\n",
        "label = data.select(\"Severity\")\n",
        "\n",
        "# Normalize the features using Spark's MinMaxScaler\n",
        "assembler = VectorAssembler(inputCols=features.columns, outputCol=\"features\")\n",
        "data = assembler.transform(data)\n",
        "\n",
        "# Normalize the features\n",
        "scaler_features = MinMaxScaler(inputCol=\"features\", outputCol=\"normalized_features\")\n",
        "scaler_features_model = scaler_features.fit(data)\n",
        "data = scaler_features_model.transform(data)\n",
        "\n",
        "# Convert 'Severity' to a vector column\n",
        "label_assembler = VectorAssembler(inputCols=[\"Severity\"], outputCol=\"label_vector\")\n",
        "data = label_assembler.transform(data)\n",
        "\n",
        "# Normalize the label (Severity)\n",
        "scaler_labels = MinMaxScaler(inputCol=\"label_vector\", outputCol=\"normalized_severity\")\n",
        "scaler_labels_model = scaler_labels.fit(data)\n",
        "data = scaler_labels_model.transform(data)\n",
        "\n",
        "# Optionally, you can drop the 'label_vector' column since it's no longer needed\n",
        "data = data.drop(\"label_vector\")\n",
        "\n",
        "# Show the transformed data\n",
        "data.show()\n"
      ],
      "metadata": {
        "id": "fzgIZZ3_W3Gz"
      },
      "execution_count": null,
      "outputs": []
    },
    {
      "cell_type": "code",
      "source": [
        "# Apply KMeans clustering\n",
        "kmeans = SparkKMeans(k=3, seed=42, featuresCol=\"normalized_features\", predictionCol=\"Cluster\")\n",
        "model = kmeans.fit(data)\n",
        "data = model.transform(data)\n",
        "\n",
        "# Show a sample of the data with clusters to verify the clustering\n",
        "data.select(\"Cluster\", \"Rate\").show(10)\n"
      ],
      "metadata": {
        "id": "5Ra1gyj5an7z"
      },
      "execution_count": null,
      "outputs": []
    },
    {
      "cell_type": "code",
      "source": [
        "# Apply KMeans clustering\n",
        "kmeans = SparkKMeans(k=3, seed=42, featuresCol=\"normalized_features\", predictionCol=\"Cluster\")\n",
        "model = kmeans.fit(data)\n",
        "data = model.transform(data)\n",
        "\n",
        "# Assign priority levels to each cluster\n",
        "cluster_priority = {}\n",
        "for cluster in range(3):\n",
        "    # Filter data by cluster\n",
        "    cluster_data = data.filter(col(\"Cluster\") == cluster)\n",
        "\n",
        "    # Calculate average rate for the cluster\n",
        "    avg_rate = cluster_data.select(\"Rate\").agg({\"Rate\": \"avg\"}).collect()[0][0]\n",
        "\n",
        "    # Calculate the 66th percentile for the current cluster's Rate\n",
        "    percentile_66 = np.percentile([row['Rate'] for row in cluster_data.select(\"Rate\").collect()], 66)\n",
        "\n",
        "    # Assign priority based on the average rate and percentile within the cluster\n",
        "    cluster_priority[cluster] = \"High\" if avg_rate > percentile_66 else \"Low\"\n"
      ],
      "metadata": {
        "id": "dKyxlWKwW3EF"
      },
      "execution_count": null,
      "outputs": []
    },
    {
      "cell_type": "code",
      "source": [
        "# Split the dataset among multiple RSUs\n",
        "def split_data(data, num_clients=3):\n",
        "    return data.randomSplit([1.0 / num_clients] * num_clients)\n",
        "\n",
        "num_clients = 3\n",
        "rsu_datasets = split_data(data, num_clients=num_clients)\n"
      ],
      "metadata": {
        "id": "ZH_VWdPPW3CX"
      },
      "execution_count": null,
      "outputs": []
    },
    {
      "cell_type": "markdown",
      "source": [],
      "metadata": {
        "id": "wjB3-gbQetiu"
      }
    },
    {
      "cell_type": "code",
      "source": [
        "class RSUModel(nn.Module):\n",
        "    def __init__(self):\n",
        "        super(RSUModel, self).__init__()\n",
        "        self.fc1 = nn.Linear(4, 64)\n",
        "        self.fc2 = nn.Linear(64, 32)\n",
        "        self.fc3 = nn.Linear(32, 16)\n",
        "        self.fc4 = nn.Linear(16, 1)\n",
        "        self.dropout = nn.Dropout(0.3)\n",
        "\n",
        "    def forward(self, x):\n",
        "        x = torch.relu(self.fc1(x))\n",
        "        x = self.dropout(x)\n",
        "        x = torch.relu(self.fc2(x))\n",
        "        x = self.dropout(x)\n",
        "        x = torch.relu(self.fc3(x))\n",
        "        return self.fc4(x)\n"
      ],
      "metadata": {
        "id": "i1WAgJzEW2_-"
      },
      "execution_count": null,
      "outputs": []
    },
    {
      "cell_type": "code",
      "source": [
        "def train_local_model(rsu_data, model, epochs=5, lr=0.001):\n",
        "    criterion = nn.MSELoss()\n",
        "    optimizer = optim.Adam(model.parameters(), lr=lr)\n",
        "\n",
        "    # Convert Spark DataFrame to pandas for features\n",
        "    features = rsu_data.select(\"Rate\", \"Sender Stopping Distance\", \"Receiver Stopping Distance\", \"Actual Distance\").toPandas().values\n",
        "\n",
        "    # Extract the label column ('normalized_severity') as a DenseVector, and convert it to a numpy array\n",
        "    labels = rsu_data.select(\"normalized_severity\").rdd.flatMap(lambda x: x).collect()\n",
        "    labels = np.array([label[0] for label in labels])  # Extract the scalar values from the DenseVector\n",
        "\n",
        "    # Ensure labels are in float32 format\n",
        "    labels = labels.astype(np.float32).reshape(-1, 1)\n",
        "\n",
        "    features_tensor = torch.tensor(features, dtype=torch.float32)\n",
        "    labels_tensor = torch.tensor(labels, dtype=torch.float32)\n",
        "\n",
        "    dataset = TensorDataset(features_tensor, labels_tensor)\n",
        "    dataloader = DataLoader(dataset, batch_size=8, shuffle=True)\n",
        "\n",
        "    for epoch in range(epochs):\n",
        "        for features_batch, labels_batch in dataloader:\n",
        "            optimizer.zero_grad()\n",
        "            predictions = model(features_batch)\n",
        "            loss = criterion(predictions, labels_batch)\n",
        "            loss.backward()\n",
        "            optimizer.step()\n",
        "\n",
        "    return model.state_dict(), loss.item()\n"
      ],
      "metadata": {
        "id": "PH5hQIz-W29s"
      },
      "execution_count": null,
      "outputs": []
    },
    {
      "cell_type": "code",
      "source": [
        "def federated_averaging(models):\n",
        "    global_model_state = models[0].copy()\n",
        "    for key in global_model_state:\n",
        "        for model_state in models[1:]:\n",
        "            global_model_state[key] += model_state[key]\n",
        "        global_model_state[key] /= len(models)\n",
        "    return global_model_state\n"
      ],
      "metadata": {
        "id": "1thGHd1CW27i"
      },
      "execution_count": null,
      "outputs": []
    },
    {
      "cell_type": "code",
      "source": [
        "# Federated Learning Loop\n",
        "for cycle in range(10):  # Simulate 10 communication rounds\n",
        "    print(f\"\\nCycle {cycle + 1}:\")\n",
        "    local_models = []\n",
        "\n",
        "    # Loop over each RSU's data\n",
        "    for i, rsu_data in enumerate(rsu_datasets):\n",
        "        cluster_id = rsu_data.select(\"Cluster\").first()[0]\n",
        "        priority = cluster_priority[cluster_id]  # Get priority from updated logic\n",
        "\n",
        "        # Check if the RSU should be processed in this cycle based on its priority\n",
        "        if (cycle + 1) % processing_frequency[priority] == 0:\n",
        "            print(f\"  Training RSU {i + 1} (Cluster: {cluster_id}, Priority: {priority})\")\n",
        "            model_state, loss = train_local_model(rsu_data, rsu_models[i], epochs=5)\n",
        "            local_models.append(model_state)\n",
        "            print(f\"    - RSU {i + 1} Local Training Loss: {loss:.4f}\")\n",
        "\n",
        "    # Perform federated averaging only if models were trained in this cycle\n",
        "    if local_models:\n",
        "        global_model_state = federated_averaging(local_models)\n",
        "        global_model.load_state_dict(global_model_state)\n",
        "\n",
        "        # Update local models with the new global model\n",
        "        for rsu_model in rsu_models:\n",
        "            rsu_model.load_state_dict(global_model_state)\n",
        "\n",
        "print(\"\\nFederated Learning Completed. Global Model is updated.\")\n"
      ],
      "metadata": {
        "id": "rwm6BOSxW25U"
      },
      "execution_count": null,
      "outputs": []
    },
    {
      "cell_type": "code",
      "source": [],
      "metadata": {
        "id": "AXEF24gxW23H"
      },
      "execution_count": null,
      "outputs": []
    },
    {
      "cell_type": "markdown",
      "source": [
        "#FINAL WALA CODE"
      ],
      "metadata": {
        "id": "T0aNrKO-bhcO"
      }
    },
    {
      "cell_type": "code",
      "source": [
        "\n",
        "# Updated Code 2 with checks and fixes for Cluster 2\n",
        "\n",
        "from pyspark.sql import SparkSession\n",
        "from pyspark.ml.feature import MinMaxScaler as SparkMinMaxScaler\n",
        "from pyspark.ml.clustering import KMeans as SparkKMeans\n",
        "from pyspark.sql.functions import col\n",
        "import torch\n",
        "import torch.nn as nn\n",
        "import torch.optim as optim\n",
        "from torch.utils.data import DataLoader, TensorDataset\n",
        "import numpy as np\n",
        "\n",
        "# Initialize Spark session\n",
        "spark = SparkSession.builder.appName(\"FederatedLearning\").getOrCreate()\n",
        "\n",
        "from pyspark.ml.feature import VectorAssembler, MinMaxScaler\n",
        "\n",
        "# Load the dataset into a Spark DataFrame\n",
        "file_path = '/content/drive/MyDrive/output (1).csv'\n",
        "data = spark.read.csv(file_path, header=True, inferSchema=True)\n",
        "\n",
        "# Drop unnecessary column\n",
        "data = data.drop(\"Unnamed: 0\")\n",
        "\n",
        "# Separate features and label\n",
        "features = data.drop(\"Severity\")\n",
        "label = data.select(\"Severity\")\n",
        "\n",
        "# Normalize the features using Spark's MinMaxScaler\n",
        "assembler = VectorAssembler(inputCols=features.columns, outputCol=\"features\")\n",
        "data = assembler.transform(data)\n",
        "\n",
        "# Normalize the features\n",
        "scaler_features = MinMaxScaler(inputCol=\"features\", outputCol=\"normalized_features\")\n",
        "scaler_features_model = scaler_features.fit(data)\n",
        "data = scaler_features_model.transform(data)\n",
        "\n",
        "# Convert 'Severity' to a vector column\n",
        "label_assembler = VectorAssembler(inputCols=[\"Severity\"], outputCol=\"label_vector\")\n",
        "data = label_assembler.transform(data)\n",
        "\n",
        "# Normalize the label (Severity)\n",
        "scaler_labels = MinMaxScaler(inputCol=\"label_vector\", outputCol=\"normalized_severity\")\n",
        "scaler_labels_model = scaler_labels.fit(data)\n",
        "data = scaler_labels_model.transform(data)\n",
        "\n",
        "# Apply KMeans clustering\n",
        "kmeans = SparkKMeans(k=3, seed=42, featuresCol=\"normalized_features\", predictionCol=\"Cluster\")\n",
        "model = kmeans.fit(data)\n",
        "data = model.transform(data)\n",
        "\n",
        "# Show the distribution of points across clusters\n",
        "cluster_counts = data.groupBy(\"Cluster\").count().collect()\n",
        "print(\"Cluster distribution:\")\n",
        "for row in cluster_counts:\n",
        "    print(f\"Cluster {row['Cluster']}: {row['count']} points\")\n",
        "\n",
        "# Assign priority levels to each cluster\n",
        "cluster_priority = {}\n",
        "for cluster in range(3):\n",
        "    cluster_data = data.filter(col(\"Cluster\") == cluster)\n",
        "    avg_rate = cluster_data.select(\"Rate\").agg({\"Rate\": \"avg\"}).collect()[0][0]\n",
        "    percentile_66 = np.percentile(\n",
        "        [row[\"Rate\"] for row in cluster_data.select(\"Rate\").collect()], 66\n",
        "    )\n",
        "    cluster_priority[cluster] = \"High\" if avg_rate > percentile_66 else \"Low\"\n",
        "\n",
        "# Define processing frequencies\n",
        "processing_frequency = {\"High\": 1, \"Low\": 3}\n",
        "\n",
        "# Split the dataset among multiple RSUs\n",
        "def split_data(data, num_clients=3):\n",
        "    return data.randomSplit([1.0 / num_clients] * num_clients)\n",
        "\n",
        "num_clients = 3\n",
        "rsu_datasets = split_data(data, num_clients=num_clients)\n",
        "\n",
        "# Define RSU model\n",
        "class RSUModel(nn.Module):\n",
        "    def __init__(self):\n",
        "        super(RSUModel, self).__init__()\n",
        "        self.fc1 = nn.Linear(4, 64)\n",
        "        self.fc2 = nn.Linear(64, 32)\n",
        "        self.fc3 = nn.Linear(32, 16)\n",
        "        self.fc4 = nn.Linear(16, 1)\n",
        "        self.dropout = nn.Dropout(0.3)\n",
        "\n",
        "    def forward(self, x):\n",
        "        x = torch.relu(self.fc1(x))\n",
        "        x = self.dropout(x)\n",
        "        x = torch.relu(self.fc2(x))\n",
        "        x = self.dropout(x)\n",
        "        x = torch.relu(self.fc3(x))\n",
        "        return self.fc4(x)\n",
        "\n",
        "# Train RSU locally\n",
        "def train_local_model(rsu_data, model, epochs=5, lr=0.001):\n",
        "    criterion = nn.MSELoss()\n",
        "    optimizer = optim.Adam(model.parameters(), lr=lr)\n",
        "\n",
        "    # Convert Spark DataFrame to pandas for features\n",
        "    features = rsu_data.select(\n",
        "        \"Rate\", \"Sender Stopping Distance\", \"Receiver Stopping Distance\", \"Actual Distance\"\n",
        "    ).toPandas().values\n",
        "\n",
        "    labels = rsu_data.select(\"normalized_severity\").rdd.flatMap(lambda x: x).collect()\n",
        "    labels = np.array([label[0] for label in labels]).astype(np.float32).reshape(-1, 1)\n",
        "\n",
        "    features_tensor = torch.tensor(features, dtype=torch.float32)\n",
        "    labels_tensor = torch.tensor(labels, dtype=torch.float32)\n",
        "\n",
        "    dataset = TensorDataset(features_tensor, labels_tensor)\n",
        "    dataloader = DataLoader(dataset, batch_size=8, shuffle=True)\n",
        "\n",
        "    for epoch in range(epochs):\n",
        "        for features_batch, labels_batch in dataloader:\n",
        "            optimizer.zero_grad()\n",
        "            predictions = model(features_batch)\n",
        "            loss = criterion(predictions, labels_batch)\n",
        "            loss.backward()\n",
        "            optimizer.step()\n",
        "\n",
        "    return model.state_dict(), loss.item()\n",
        "\n",
        "# Federated averaging\n",
        "def federated_averaging(models):\n",
        "    global_model_state = models[0].copy()\n",
        "    for key in global_model_state:\n",
        "        for model_state in models[1:]:\n",
        "            global_model_state[key] += model_state[key]\n",
        "        global_model_state[key] /= len(models)\n",
        "    return global_model_state\n",
        "\n",
        "\n",
        "\n",
        "\n",
        "# Split the dataset among multiple RSUs, ensuring all clusters are represented\n",
        "def split_data_by_cluster(data, num_clients=3):\n",
        "    clusters = data.select(\"Cluster\").distinct().collect()\n",
        "    cluster_datasets = {}\n",
        "\n",
        "    for cluster in clusters:\n",
        "        cluster_id = cluster[\"Cluster\"]\n",
        "        cluster_datasets[cluster_id] = data.filter(col(\"Cluster\") == cluster_id)\n",
        "\n",
        "    rsu_datasets = []\n",
        "    for i in range(num_clients):\n",
        "        client_data = None\n",
        "        for cluster_id in cluster_datasets:\n",
        "            cluster_data = cluster_datasets[cluster_id].sample(\n",
        "                withReplacement=False, fraction=1.0 / num_clients\n",
        "            )\n",
        "            if client_data is None:\n",
        "                client_data = cluster_data\n",
        "            else:\n",
        "                client_data = client_data.union(cluster_data)\n",
        "        rsu_datasets.append(client_data)\n",
        "\n",
        "    return rsu_datasets\n",
        "\n",
        "# Use the new split function\n",
        "rsu_datasets = split_data_by_cluster(data, num_clients=num_clients)\n",
        "\n",
        "# Federated Learning Simulation with Fixes\n",
        "global_model = RSUModel()\n",
        "rsu_models = [RSUModel() for _ in range(num_clients)]\n",
        "\n",
        "for cycle in range(10):  # Simulate 10 communication rounds\n",
        "    print(f\"\\nCycle {cycle + 1}:\")\n",
        "    local_models = []\n",
        "\n",
        "    for i, rsu_data in enumerate(rsu_datasets):\n",
        "        clusters_in_rsu = rsu_data.select(\"Cluster\").distinct().collect()\n",
        "        for cluster_row in clusters_in_rsu:\n",
        "            cluster_id = cluster_row[\"Cluster\"]\n",
        "            priority = cluster_priority[cluster_id]\n",
        "\n",
        "            # Train only if the cluster's priority matches the cycle frequency\n",
        "            if (cycle + 1) % processing_frequency[priority] == 0:\n",
        "                print(f\"  Training RSU {i + 1} (Cluster: {cluster_id}, Priority: {priority})\")\n",
        "                model_state, loss = train_local_model(rsu_data, rsu_models[i], epochs=5)\n",
        "                local_models.append(model_state)\n",
        "                print(f\"    - RSU {i + 1} Local Training Loss: {loss:.4f}\")\n",
        "\n",
        "    if local_models:\n",
        "        global_model_state = federated_averaging(local_models)\n",
        "        global_model.load_state_dict(global_model_state)\n",
        "\n",
        "        for rsu_model in rsu_models:\n",
        "            rsu_model.load_state_dict(global_model_state)\n",
        "\n",
        "print(\"\\nFederated Learning Completed. Global Model is updated.\")\n"
      ],
      "metadata": {
        "id": "8JJgUZYabgZo"
      },
      "execution_count": null,
      "outputs": []
    },
    {
      "cell_type": "code",
      "source": [
        "from pyspark.sql import SparkSession\n",
        "from pyspark.ml.feature import MinMaxScaler as SparkMinMaxScaler\n",
        "from pyspark.ml.clustering import KMeans as SparkKMeans\n",
        "from pyspark.sql.functions import col\n",
        "import torch\n",
        "import torch.nn as nn\n",
        "import torch.optim as optim\n",
        "from torch.utils.data import DataLoader, TensorDataset\n",
        "import numpy as np\n",
        "import matplotlib.pyplot as plt\n",
        "\n",
        "# Initialize Spark session\n",
        "spark = SparkSession.builder.appName(\"FederatedLearning\").getOrCreate()\n",
        "\n",
        "from pyspark.ml.feature import VectorAssembler, MinMaxScaler\n",
        "\n",
        "# Load the dataset into a Spark DataFrame\n",
        "file_path = '/content/drive/MyDrive/output (1).csv'\n",
        "data = spark.read.csv(file_path, header=True, inferSchema=True)\n",
        "\n",
        "# Drop unnecessary column\n",
        "data = data.drop(\"Unnamed: 0\")\n",
        "\n",
        "# Separate features and label\n",
        "features = data.drop(\"Severity\")\n",
        "label = data.select(\"Severity\")\n",
        "\n",
        "# Normalize the features using Spark's MinMaxScaler\n",
        "assembler = VectorAssembler(inputCols=features.columns, outputCol=\"features\")\n",
        "data = assembler.transform(data)\n",
        "\n",
        "# Normalize the features\n",
        "scaler_features = MinMaxScaler(inputCol=\"features\", outputCol=\"normalized_features\")\n",
        "scaler_features_model = scaler_features.fit(data)\n",
        "data = scaler_features_model.transform(data)\n",
        "\n",
        "# Convert 'Severity' to a vector column\n",
        "label_assembler = VectorAssembler(inputCols=[\"Severity\"], outputCol=\"label_vector\")\n",
        "data = label_assembler.transform(data)\n",
        "\n",
        "# Normalize the label (Severity)\n",
        "scaler_labels = MinMaxScaler(inputCol=\"label_vector\", outputCol=\"normalized_severity\")\n",
        "scaler_labels_model = scaler_labels.fit(data)\n",
        "data = scaler_labels_model.transform(data)\n",
        "\n",
        "# Apply KMeans clustering\n",
        "kmeans = SparkKMeans(k=3, seed=42, featuresCol=\"normalized_features\", predictionCol=\"Cluster\")\n",
        "model = kmeans.fit(data)\n",
        "data = model.transform(data)\n",
        "\n",
        "# Visualize cluster distribution\n",
        "cluster_counts = data.groupBy(\"Cluster\").count().collect()\n",
        "clusters, counts = zip(*[(row[\"Cluster\"], row[\"count\"]) for row in cluster_counts])\n",
        "\n",
        "plt.figure(figsize=(8, 6))\n",
        "plt.bar(clusters, counts, color='skyblue')\n",
        "plt.title(\"Cluster Distribution\")\n",
        "plt.xlabel(\"Cluster\")\n",
        "plt.ylabel(\"Number of Points\")\n",
        "plt.show()\n",
        "\n",
        "# Assign priority levels to each cluster\n",
        "cluster_priority = {}\n",
        "for cluster in range(3):\n",
        "    cluster_data = data.filter(col(\"Cluster\") == cluster)\n",
        "    avg_rate = cluster_data.select(\"Rate\").agg({\"Rate\": \"avg\"}).collect()[0][0]\n",
        "    percentile_66 = np.percentile(\n",
        "        [row[\"Rate\"] for row in cluster_data.select(\"Rate\").collect()], 66\n",
        "    )\n",
        "    cluster_priority[cluster] = \"High\" if avg_rate > percentile_66 else \"Low\"\n",
        "\n",
        "# Define processing frequencies\n",
        "processing_frequency = {\"High\": 1, \"Low\": 3}\n",
        "\n",
        "# Split the dataset among multiple RSUs\n",
        "def split_data_by_cluster(data, num_clients=3):\n",
        "    clusters = data.select(\"Cluster\").distinct().collect()\n",
        "    cluster_datasets = {}\n",
        "\n",
        "    for cluster in clusters:\n",
        "        cluster_id = cluster[\"Cluster\"]\n",
        "        cluster_datasets[cluster_id] = data.filter(col(\"Cluster\") == cluster_id)\n",
        "\n",
        "    rsu_datasets = []\n",
        "    for i in range(num_clients):\n",
        "        client_data = None\n",
        "        for cluster_id in cluster_datasets:\n",
        "            cluster_data = cluster_datasets[cluster_id].sample(\n",
        "                withReplacement=False, fraction=1.0 / num_clients\n",
        "            )\n",
        "            if client_data is None:\n",
        "                client_data = cluster_data\n",
        "            else:\n",
        "                client_data = client_data.union(cluster_data)\n",
        "        rsu_datasets.append(client_data)\n",
        "\n",
        "    return rsu_datasets\n",
        "\n",
        "num_clients = 3\n",
        "rsu_datasets = split_data_by_cluster(data, num_clients=num_clients)\n",
        "\n",
        "# Define RSU model\n",
        "class RSUModel(nn.Module):\n",
        "    def __init__(self):\n",
        "        super(RSUModel, self).__init__()\n",
        "        self.fc1 = nn.Linear(4, 64)\n",
        "        self.fc2 = nn.Linear(64, 32)\n",
        "        self.fc3 = nn.Linear(32, 16)\n",
        "        self.fc4 = nn.Linear(16, 1)\n",
        "        self.dropout = nn.Dropout(0.3)\n",
        "\n",
        "    def forward(self, x):\n",
        "        x = torch.relu(self.fc1(x))\n",
        "        x = self.dropout(x)\n",
        "        x = torch.relu(self.fc2(x))\n",
        "        x = self.dropout(x)\n",
        "        x = torch.relu(self.fc3(x))\n",
        "        return self.fc4(x)\n",
        "\n",
        "# Train RSU locally\n",
        "def train_local_model(rsu_data, model, epochs=5, lr=0.001):\n",
        "    criterion = nn.MSELoss()\n",
        "    optimizer = optim.Adam(model.parameters(), lr=lr)\n",
        "\n",
        "    # Convert Spark DataFrame to pandas for features\n",
        "    features = rsu_data.select(\n",
        "        \"Rate\", \"Sender Stopping Distance\", \"Receiver Stopping Distance\", \"Actual Distance\"\n",
        "    ).toPandas().values\n",
        "\n",
        "    labels = rsu_data.select(\"normalized_severity\").rdd.flatMap(lambda x: x).collect()\n",
        "    labels = np.array([label[0] for label in labels]).astype(np.float32).reshape(-1, 1)\n",
        "\n",
        "    features_tensor = torch.tensor(features, dtype=torch.float32)\n",
        "    labels_tensor = torch.tensor(labels, dtype=torch.float32)\n",
        "\n",
        "    dataset = TensorDataset(features_tensor, labels_tensor)\n",
        "    dataloader = DataLoader(dataset, batch_size=8, shuffle=True)\n",
        "\n",
        "    training_losses = []\n",
        "    for epoch in range(epochs):\n",
        "        for features_batch, labels_batch in dataloader:\n",
        "            optimizer.zero_grad()\n",
        "            predictions = model(features_batch)\n",
        "            loss = criterion(predictions, labels_batch)\n",
        "            loss.backward()\n",
        "            optimizer.step()\n",
        "        training_losses.append(loss.item())\n",
        "\n",
        "    return model.state_dict(), training_losses\n",
        "\n",
        "# Federated averaging\n",
        "def federated_averaging(models):\n",
        "    global_model_state = models[0].copy()\n",
        "    for key in global_model_state:\n",
        "        for model_state in models[1:]:\n",
        "            global_model_state[key] += model_state[key]\n",
        "        global_model_state[key] /= len(models)\n",
        "    return global_model_state\n",
        "\n",
        "# Federated Learning Simulation with Visualizations\n",
        "global_model = RSUModel()\n",
        "rsu_models = [RSUModel() for _ in range(num_clients)]\n",
        "\n",
        "all_cycle_losses = []\n",
        "\n",
        "for cycle in range(10):  # Simulate 10 communication rounds\n",
        "    print(f\"\\nCycle {cycle + 1}:\")\n",
        "    local_models = []\n",
        "    cycle_losses = []\n",
        "\n",
        "    for i, rsu_data in enumerate(rsu_datasets):\n",
        "        clusters_in_rsu = rsu_data.select(\"Cluster\").distinct().collect()\n",
        "        for cluster_row in clusters_in_rsu:\n",
        "            cluster_id = cluster_row[\"Cluster\"]\n",
        "            priority = cluster_priority[cluster_id]\n",
        "\n",
        "            # Train only if the cluster's priority matches the cycle frequency\n",
        "            if (cycle + 1) % processing_frequency[priority] == 0:\n",
        "                print(f\"  Training RSU {i + 1} (Cluster: {cluster_id}, Priority: {priority})\")\n",
        "                model_state, losses = train_local_model(rsu_data, rsu_models[i], epochs=5)\n",
        "                local_models.append(model_state)\n",
        "                cycle_losses.append(np.mean(losses))\n",
        "                print(f\"    - RSU {i + 1} Local Training Loss: {losses[-1]:.4f}\")\n",
        "\n",
        "    all_cycle_losses.append(np.mean(cycle_losses) if cycle_losses else None)\n",
        "\n",
        "    if local_models:\n",
        "        global_model_state = federated_averaging(local_models)\n",
        "        global_model.load_state_dict(global_model_state)\n",
        "\n",
        "        for rsu_model in rsu_models:\n",
        "            rsu_model.load_state_dict(global_model_state)\n",
        "\n",
        "# Plot the average loss per communication cycle\n",
        "plt.figure(figsize=(10, 6))\n",
        "plt.plot(range(1, 11), all_cycle_losses, marker='o')\n",
        "plt.title(\"Average Loss per Communication Cycle\")\n",
        "plt.xlabel(\"Cycle\")\n",
        "plt.ylabel(\"Average Loss\")\n",
        "plt.grid(True)\n",
        "plt.show()\n",
        "\n",
        "print(\"\\nFederated Learning Completed. Global Model is updated.\")\n"
      ],
      "metadata": {
        "id": "ZXxh02tM9atx"
      },
      "execution_count": null,
      "outputs": []
    }
  ]
}